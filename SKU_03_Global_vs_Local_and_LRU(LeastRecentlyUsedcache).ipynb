{
 "cells": [
  {
   "cell_type": "markdown",
   "metadata": {},
   "source": [
    "# Global Variable Vs Local Variable"
   ]
  },
  {
   "cell_type": "markdown",
   "metadata": {},
   "source": [
    "###### What is variable?"
   ]
  },
  {
   "cell_type": "markdown",
   "metadata": {},
   "source": [
    "A variable is a value that can change or varies, depending on the information passed to that program."
   ]
  },
  {
   "cell_type": "markdown",
   "metadata": {},
   "source": [
    "Global Variable : Global variable is a variable which we can use even after completing the function program. Or outside the function."
   ]
  },
  {
   "cell_type": "markdown",
   "metadata": {},
   "source": [
    "Local Variable : Local variable is a variable which we can use only inside the function. and its existance only inside the function."
   ]
  },
  {
   "cell_type": "code",
   "execution_count": 11,
   "metadata": {},
   "outputs": [],
   "source": [
    "# Local Example\n",
    "def get_square():\n",
    "    local_var = 5\n",
    "    get_square = local_var**2\n",
    "    return get_square"
   ]
  },
  {
   "cell_type": "code",
   "execution_count": 10,
   "metadata": {},
   "outputs": [
    {
     "data": {
      "text/plain": [
       "25"
      ]
     },
     "execution_count": 10,
     "metadata": {},
     "output_type": "execute_result"
    }
   ],
   "source": [
    "get_square()"
   ]
  },
  {
   "cell_type": "code",
   "execution_count": 13,
   "metadata": {},
   "outputs": [
    {
     "ename": "NameError",
     "evalue": "name 'local_var' is not defined",
     "output_type": "error",
     "traceback": [
      "\u001b[1;31m---------------------------------------------------------------------------\u001b[0m",
      "\u001b[1;31mNameError\u001b[0m                                 Traceback (most recent call last)",
      "\u001b[1;32m<ipython-input-13-12101275ed97>\u001b[0m in \u001b[0;36m<module>\u001b[1;34m()\u001b[0m\n\u001b[0;32m      1\u001b[0m \u001b[1;31m# We can use the local_var outside the function\u001b[0m\u001b[1;33m\u001b[0m\u001b[1;33m\u001b[0m\u001b[0m\n\u001b[1;32m----> 2\u001b[1;33m \u001b[0mlocal_var\u001b[0m\u001b[1;33m\u001b[0m\u001b[0m\n\u001b[0m",
      "\u001b[1;31mNameError\u001b[0m: name 'local_var' is not defined"
     ]
    }
   ],
   "source": [
    "# We can use the local_var outside the function\n",
    "local_var"
   ]
  },
  {
   "cell_type": "code",
   "execution_count": 14,
   "metadata": {},
   "outputs": [],
   "source": [
    "# Global Varibale\n",
    "global_var = 5\n",
    "def get_Square():\n",
    "    get_square = global_var **2\n",
    "    print(get_square)"
   ]
  },
  {
   "cell_type": "code",
   "execution_count": 16,
   "metadata": {},
   "outputs": [
    {
     "data": {
      "text/plain": [
       "25"
      ]
     },
     "execution_count": 16,
     "metadata": {},
     "output_type": "execute_result"
    }
   ],
   "source": [
    "get_square()"
   ]
  },
  {
   "cell_type": "code",
   "execution_count": 19,
   "metadata": {},
   "outputs": [
    {
     "name": "stdout",
     "output_type": "stream",
     "text": [
      "144\n"
     ]
    }
   ],
   "source": [
    "# We can change the global variable anytime and use it in function also\n",
    "global_var = 12\n",
    "get_Square()"
   ]
  },
  {
   "cell_type": "markdown",
   "metadata": {},
   "source": [
    "##### Write a code to get Fibonacci series of Nth number"
   ]
  },
  {
   "cell_type": "markdown",
   "metadata": {},
   "source": [
    "The first two terms are 0 and 1. All other terms are obtained by adding the preceding two terms. This means to say the nth term is the sum of (n-1)th and (n-2)th term."
   ]
  },
  {
   "cell_type": "code",
   "execution_count": 33,
   "metadata": {},
   "outputs": [],
   "source": [
    "\n",
    "def fibo_series(num):\n",
    "    if num == 1:\n",
    "        return 1\n",
    "    elif num==2:\n",
    "        return 2\n",
    "    elif num>2:\n",
    "        return (num-1)+( num - 2)"
   ]
  },
  {
   "cell_type": "code",
   "execution_count": 34,
   "metadata": {},
   "outputs": [
    {
     "data": {
      "text/plain": [
       "7"
      ]
     },
     "execution_count": 34,
     "metadata": {},
     "output_type": "execute_result"
    }
   ],
   "source": [
    "fibo_series(5)"
   ]
  },
  {
   "cell_type": "code",
   "execution_count": 36,
   "metadata": {},
   "outputs": [
    {
     "data": {
      "text/plain": [
       "13"
      ]
     },
     "execution_count": 36,
     "metadata": {},
     "output_type": "execute_result"
    }
   ],
   "source": [
    "fibo_series(8)"
   ]
  },
  {
   "cell_type": "markdown",
   "metadata": {},
   "source": [
    "###### Write a code to get Fibonacci series from 0 to 20"
   ]
  },
  {
   "cell_type": "code",
   "execution_count": 45,
   "metadata": {},
   "outputs": [],
   "source": [
    "def fibo_series(num):\n",
    "    '''This function will give the fibonacci series value,\n",
    "    It will add just two number just before the iteration number\n",
    "    '''\n",
    "    if num == 1:\n",
    "        return 1\n",
    "    elif num==2:\n",
    "        return 2\n",
    "    elif num>2:\n",
    "        for i in range(1,num+1):\n",
    "            print (i , \" : \" ,(i -1) + (i -2))"
   ]
  },
  {
   "cell_type": "code",
   "execution_count": 46,
   "metadata": {},
   "outputs": [
    {
     "name": "stdout",
     "output_type": "stream",
     "text": [
      "1  :  -1\n",
      "2  :  1\n",
      "3  :  3\n",
      "4  :  5\n",
      "5  :  7\n",
      "6  :  9\n",
      "7  :  11\n",
      "8  :  13\n",
      "9  :  15\n",
      "10  :  17\n",
      "11  :  19\n",
      "12  :  21\n",
      "13  :  23\n",
      "14  :  25\n",
      "15  :  27\n",
      "16  :  29\n",
      "17  :  31\n",
      "18  :  33\n",
      "19  :  35\n",
      "20  :  37\n"
     ]
    }
   ],
   "source": [
    "fibo_series(20)"
   ]
  },
  {
   "cell_type": "code",
   "execution_count": 48,
   "metadata": {},
   "outputs": [],
   "source": [
    "def fibo_series(num):\n",
    "    '''This function will give the fibonacci series value,\n",
    "    It will add just two number just before the iteration number\n",
    "    '''\n",
    "    for i in range(1,num+1):\n",
    "            print (i , \" : \" ,(i -1) + (i -2))"
   ]
  },
  {
   "cell_type": "code",
   "execution_count": 50,
   "metadata": {},
   "outputs": [
    {
     "name": "stdout",
     "output_type": "stream",
     "text": [
      "1  :  -1\n",
      "2  :  1\n",
      "3  :  3\n"
     ]
    }
   ],
   "source": [
    "fibo_series(3)"
   ]
  },
  {
   "cell_type": "code",
   "execution_count": 1,
   "metadata": {},
   "outputs": [],
   "source": [
    "# if we increase the num in same function, system will crash\n",
    "def fibo(num):\n",
    "    '''This function will give the fibonacci series value,\n",
    "    It will add just two number just before the iteration number\n",
    "    '''\n",
    "    if num == 1:\n",
    "        return 1\n",
    "    elif num==2:\n",
    "        return 2\n",
    "    elif num>2:\n",
    "        return fibo(num -1) + fibo(num -2)"
   ]
  },
  {
   "cell_type": "code",
   "execution_count": 2,
   "metadata": {},
   "outputs": [
    {
     "data": {
      "text/plain": [
       "8"
      ]
     },
     "execution_count": 2,
     "metadata": {},
     "output_type": "execute_result"
    }
   ],
   "source": [
    "fibo(5)"
   ]
  },
  {
   "cell_type": "code",
   "execution_count": 3,
   "metadata": {},
   "outputs": [
    {
     "name": "stdout",
     "output_type": "stream",
     "text": [
      "1   :   1\n",
      "2   :   2\n",
      "3   :   3\n",
      "4   :   5\n",
      "5   :   8\n",
      "6   :   13\n",
      "7   :   21\n",
      "8   :   34\n",
      "9   :   55\n",
      "10   :   89\n",
      "11   :   144\n",
      "12   :   233\n",
      "13   :   377\n",
      "14   :   610\n",
      "15   :   987\n",
      "16   :   1597\n",
      "17   :   2584\n",
      "18   :   4181\n",
      "19   :   6765\n"
     ]
    }
   ],
   "source": [
    "for i in range(1, 20):\n",
    "    print(i , \"  :  \" ,  fibo(i))    "
   ]
  },
  {
   "cell_type": "code",
   "execution_count": null,
   "metadata": {},
   "outputs": [],
   "source": [
    "# But if we increase the number - python will crash... because it will take huge memory\n",
    "for i in range(1, 100):\n",
    "    print(i , \"  :  \" ,  fibo(i))    "
   ]
  },
  {
   "cell_type": "markdown",
   "metadata": {},
   "source": [
    "### Increase System Efficiency and Speed"
   ]
  },
  {
   "cell_type": "markdown",
   "metadata": {},
   "source": [
    "###### Clear LRU Cache in Python"
   ]
  },
  {
   "cell_type": "markdown",
   "metadata": {},
   "source": [
    "The LRU is the Least Recently Used cache. LRU Cache is a type of high-speed memory, that is used to quicken the retrieval speed of frequently used data."
   ]
  },
  {
   "cell_type": "markdown",
   "metadata": {},
   "source": [
    "\n",
    "Alternatively, the maxsize can be changed to suit one’s own preference. The value is measured in kbs, and maxsize takes an integer argument"
   ]
  },
  {
   "cell_type": "code",
   "execution_count": 5,
   "metadata": {},
   "outputs": [],
   "source": [
    "#lRU = least Recently Used \n",
    "# Below same code should run in very less time, and without any latency...\n",
    "# to use the LRU in function we have to declare it before the function code with @ sign\n",
    "\n",
    "# if we increase the num in same function, system will crash\n",
    "from functools import lru_cache \n",
    "@lru_cache(maxsize = 1000)\n",
    "\n",
    "def fibo(num):\n",
    "    '''This function will give the fibonacci series value,\n",
    "    It will be very fast because of LRU \n",
    "    '''\n",
    "    if num == 1:\n",
    "        return 1\n",
    "    elif num==2:\n",
    "        return 2\n",
    "    elif num>2:\n",
    "        return fibo(num -1) + fibo(num -2)"
   ]
  },
  {
   "cell_type": "code",
   "execution_count": 8,
   "metadata": {},
   "outputs": [
    {
     "name": "stdout",
     "output_type": "stream",
     "text": [
      "1   :   1\n",
      "2   :   2\n",
      "3   :   3\n",
      "4   :   5\n",
      "5   :   8\n",
      "6   :   13\n",
      "7   :   21\n",
      "8   :   34\n",
      "9   :   55\n",
      "10   :   89\n",
      "11   :   144\n",
      "12   :   233\n",
      "13   :   377\n",
      "14   :   610\n",
      "15   :   987\n",
      "16   :   1597\n",
      "17   :   2584\n",
      "18   :   4181\n",
      "19   :   6765\n",
      "20   :   10946\n",
      "21   :   17711\n",
      "22   :   28657\n",
      "23   :   46368\n",
      "24   :   75025\n",
      "25   :   121393\n",
      "26   :   196418\n",
      "27   :   317811\n",
      "28   :   514229\n",
      "29   :   832040\n",
      "30   :   1346269\n",
      "31   :   2178309\n",
      "32   :   3524578\n",
      "33   :   5702887\n",
      "34   :   9227465\n",
      "35   :   14930352\n",
      "36   :   24157817\n",
      "37   :   39088169\n",
      "38   :   63245986\n",
      "39   :   102334155\n",
      "40   :   165580141\n",
      "41   :   267914296\n",
      "42   :   433494437\n",
      "43   :   701408733\n",
      "44   :   1134903170\n",
      "45   :   1836311903\n",
      "46   :   2971215073\n",
      "47   :   4807526976\n",
      "48   :   7778742049\n"
     ]
    }
   ],
   "source": [
    "for i in range(1, 49):\n",
    "    print(i , \"  :  \" ,  fibo(i))  "
   ]
  }
 ],
 "metadata": {
  "kernelspec": {
   "display_name": "Python 3",
   "language": "python",
   "name": "python3"
  },
  "language_info": {
   "codemirror_mode": {
    "name": "ipython",
    "version": 3
   },
   "file_extension": ".py",
   "mimetype": "text/x-python",
   "name": "python",
   "nbconvert_exporter": "python",
   "pygments_lexer": "ipython3",
   "version": "3.7.0"
  }
 },
 "nbformat": 4,
 "nbformat_minor": 2
}

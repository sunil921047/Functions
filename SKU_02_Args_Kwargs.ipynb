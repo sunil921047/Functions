{
 "cells": [
  {
   "cell_type": "markdown",
   "metadata": {},
   "source": [
    "# *args and **kwars"
   ]
  },
  {
   "cell_type": "raw",
   "metadata": {},
   "source": [
    "Special Symbols Used for passing arguments:-\n",
    "\n",
    "*args (Non-Keyword Arguments)\n",
    "**kwargs (Keyword Arguments)"
   ]
  },
  {
   "cell_type": "markdown",
   "metadata": {},
   "source": [
    "The special syntax *args in function definitions in python is used to pass a variable number of arguments to a function.\n",
    "It is used to give non-worded variables"
   ]
  },
  {
   "cell_type": "markdown",
   "metadata": {},
   "source": [
    "### Basically args we use when no definite parameters while creating any Functions"
   ]
  },
  {
   "cell_type": "markdown",
   "metadata": {},
   "source": [
    "###### Example 1\n",
    "\n",
    "Function with *args"
   ]
  },
  {
   "cell_type": "code",
   "execution_count": 7,
   "metadata": {},
   "outputs": [],
   "source": [
    "def printitems(*args):\n",
    "    for i in args:\n",
    "        print(i)"
   ]
  },
  {
   "cell_type": "code",
   "execution_count": 8,
   "metadata": {},
   "outputs": [
    {
     "name": "stdout",
     "output_type": "stream",
     "text": [
      "My\n",
      "Name\n",
      "is\n",
      "Sunil\n"
     ]
    }
   ],
   "source": [
    "printitems('My', 'Name', 'is' ,'Sunil')"
   ]
  },
  {
   "cell_type": "markdown",
   "metadata": {},
   "source": [
    "###### Example 2\n",
    "\n",
    "Funtion with one normal paramater and *args"
   ]
  },
  {
   "cell_type": "code",
   "execution_count": 12,
   "metadata": {},
   "outputs": [],
   "source": [
    "def printitems(item , *args):\n",
    "    print('This is the first item : ', item)\n",
    "    for arg in args:\n",
    "        print(arg)"
   ]
  },
  {
   "cell_type": "code",
   "execution_count": 14,
   "metadata": {},
   "outputs": [
    {
     "name": "stdout",
     "output_type": "stream",
     "text": [
      "This is the first item :  FirstItem\n",
      "args1\n",
      "args2\n",
      "args3\n",
      "args4\n"
     ]
    }
   ],
   "source": [
    "printitems('FirstItem' , 'args1', 'args2', 'args3', 'args4')"
   ]
  },
  {
   "cell_type": "markdown",
   "metadata": {},
   "source": [
    "###### Example 3\n",
    "\n",
    "Funtion with **kwargs"
   ]
  },
  {
   "cell_type": "markdown",
   "metadata": {},
   "source": [
    "**kwars works with Key and Word concepts. It works like a dictionary (key and value and items), but not exactly as dictionay."
   ]
  },
  {
   "cell_type": "code",
   "execution_count": 35,
   "metadata": {},
   "outputs": [],
   "source": [
    "def key_word(**kwargs):\n",
    "    for key , value in kwargs.items():\n",
    "        print('This is first item : ' , key , ' and this is second item : ' , value)"
   ]
  },
  {
   "cell_type": "code",
   "execution_count": 38,
   "metadata": {},
   "outputs": [
    {
     "name": "stdout",
     "output_type": "stream",
     "text": [
      "This is first item :  First  and this is second item :  1\n",
      "This is first item :  Second  and this is second item :  2\n",
      "This is first item :  Three  and this is second item :  3\n"
     ]
    }
   ],
   "source": [
    "key_word( First=1, Second=2 , Three=3)"
   ]
  },
  {
   "cell_type": "markdown",
   "metadata": {},
   "source": [
    "###### Example 4"
   ]
  },
  {
   "cell_type": "raw",
   "metadata": {},
   "source": [
    "Funtion with normal argument, *args and **kwargs"
   ]
  },
  {
   "cell_type": "code",
   "execution_count": 45,
   "metadata": {},
   "outputs": [],
   "source": [
    "def all_items(nor_args, *args , **kwars):\n",
    "    print('This is normal paramters : ' , nor_args)\n",
    "    for i in args:\n",
    "        print('This is args values : ' ,i)\n",
    "    for key , word in kwars.items():\n",
    "        print ('This is key : ', key , ' This is word : ', word)\n",
    "        "
   ]
  },
  {
   "cell_type": "code",
   "execution_count": 46,
   "metadata": {},
   "outputs": [
    {
     "name": "stdout",
     "output_type": "stream",
     "text": [
      "This is normal paramters :  Normal Argument\n",
      "This is args values :  args1\n",
      "This is args values :  args2\n",
      "This is args values :  args3\n",
      "This is args values :  args4\n",
      "This is key :  First  This is word :  1\n",
      "This is key :  Second  This is word :  2\n",
      "This is key :  Three  This is word :  3\n"
     ]
    }
   ],
   "source": [
    "all_items('Normal Argument' , 'args1', 'args2' , 'args3' , 'args4' , First = 1 , Second = 2 , Three = 3)"
   ]
  },
  {
   "cell_type": "code",
   "execution_count": null,
   "metadata": {},
   "outputs": [],
   "source": []
  }
 ],
 "metadata": {
  "kernelspec": {
   "display_name": "Python 3",
   "language": "python",
   "name": "python3"
  },
  "language_info": {
   "codemirror_mode": {
    "name": "ipython",
    "version": 3
   },
   "file_extension": ".py",
   "mimetype": "text/x-python",
   "name": "python",
   "nbconvert_exporter": "python",
   "pygments_lexer": "ipython3",
   "version": "3.7.0"
  }
 },
 "nbformat": 4,
 "nbformat_minor": 2
}

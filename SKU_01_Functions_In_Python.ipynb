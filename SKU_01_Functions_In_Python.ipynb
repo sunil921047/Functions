{
 "cells": [
  {
   "cell_type": "markdown",
   "metadata": {},
   "source": [
    "# Function"
   ]
  },
  {
   "cell_type": "markdown",
   "metadata": {},
   "source": [
    "A Function is a set of code that performs a specific task. It avoids repetition and makes the code reusable.\n",
    "\n",
    "As our program grows larger and larger, functions make it more organized and manageable."
   ]
  },
  {
   "cell_type": "markdown",
   "metadata": {},
   "source": [
    "Keyword def that marks the start of the function header."
   ]
  },
  {
   "cell_type": "markdown",
   "metadata": {},
   "source": [
    "### Create a Function"
   ]
  },
  {
   "cell_type": "code",
   "execution_count": 1,
   "metadata": {},
   "outputs": [],
   "source": [
    "def sum_of_two_num(a,b):\n",
    "    c = a+b\n",
    "    return c"
   ]
  },
  {
   "cell_type": "code",
   "execution_count": 2,
   "metadata": {},
   "outputs": [
    {
     "data": {
      "text/plain": [
       "7"
      ]
     },
     "execution_count": 2,
     "metadata": {},
     "output_type": "execute_result"
    }
   ],
   "source": [
    "sum_of_two_num(3,4)"
   ]
  },
  {
   "cell_type": "markdown",
   "metadata": {},
   "source": [
    "#### Use of Function Parameters"
   ]
  },
  {
   "cell_type": "code",
   "execution_count": 7,
   "metadata": {},
   "outputs": [],
   "source": [
    "#print(\"I'm going to inject %s %s here.\" %('something','at all'))\n",
    "def age_salary(age, salary):\n",
    "    print('My age is %s and my salary is %s' %( age, salary ))    "
   ]
  },
  {
   "cell_type": "code",
   "execution_count": 9,
   "metadata": {},
   "outputs": [
    {
     "name": "stdout",
     "output_type": "stream",
     "text": [
      "My age is 30 and my salary is 20000\n"
     ]
    }
   ],
   "source": [
    "age_salary(30,20000)"
   ]
  },
  {
   "cell_type": "markdown",
   "metadata": {},
   "source": [
    "##### Use of Function Parameters by its name"
   ]
  },
  {
   "cell_type": "code",
   "execution_count": 13,
   "metadata": {},
   "outputs": [],
   "source": [
    "def age_salary(name,age, salary):\n",
    "    print('Python Teacher name is ' , name , ' and his age is ' , age, ' , he earns ' , salary)"
   ]
  },
  {
   "cell_type": "code",
   "execution_count": 15,
   "metadata": {},
   "outputs": [
    {
     "name": "stdout",
     "output_type": "stream",
     "text": [
      "Python Teacher name is  Sandeep  and his age is  32  , he earns  250000\n"
     ]
    }
   ],
   "source": [
    "age_salary('Sandeep' , 32 , 250000)"
   ]
  },
  {
   "cell_type": "code",
   "execution_count": 16,
   "metadata": {},
   "outputs": [
    {
     "name": "stdout",
     "output_type": "stream",
     "text": [
      "Python Teacher name is  32  and his age is  250000  , he earns  Sandeep\n"
     ]
    }
   ],
   "source": [
    "# If user change the order of parameters then\n",
    "age_salary(32 ,  250000, 'Sandeep')"
   ]
  },
  {
   "cell_type": "markdown",
   "metadata": {},
   "source": [
    "###### Solution :"
   ]
  },
  {
   "cell_type": "code",
   "execution_count": 17,
   "metadata": {},
   "outputs": [
    {
     "name": "stdout",
     "output_type": "stream",
     "text": [
      "Python Teacher name is  Sandeep  and his age is  32  , he earns  250000\n"
     ]
    }
   ],
   "source": [
    "age_salary(age = 32 , salary = 250000, name = 'Sandeep')"
   ]
  },
  {
   "cell_type": "markdown",
   "metadata": {},
   "source": [
    "#### Default Parameter Values "
   ]
  },
  {
   "cell_type": "markdown",
   "metadata": {},
   "source": [
    "After creating a Function when there is no Parameter value , in that condition we can give a Defualt Paramter Value while creating a function."
   ]
  },
  {
   "cell_type": "code",
   "execution_count": 18,
   "metadata": {},
   "outputs": [],
   "source": [
    "def age_salary(name,age, salary):\n",
    "    print('Python Teacher name is ' , name , ' and his age is ' , age, ' , he earns ' , salary)"
   ]
  },
  {
   "cell_type": "code",
   "execution_count": 20,
   "metadata": {},
   "outputs": [
    {
     "ename": "TypeError",
     "evalue": "age_salary() missing 2 required positional arguments: 'age' and 'salary'",
     "output_type": "error",
     "traceback": [
      "\u001b[1;31m---------------------------------------------------------------------------\u001b[0m",
      "\u001b[1;31mTypeError\u001b[0m                                 Traceback (most recent call last)",
      "\u001b[1;32m<ipython-input-20-dbb337d15ba0>\u001b[0m in \u001b[0;36m<module>\u001b[1;34m()\u001b[0m\n\u001b[0;32m      1\u001b[0m \u001b[1;31m# Showing error if user dont give all the required parameters, in such scenarios we can give Default Parameter Values\u001b[0m\u001b[1;33m\u001b[0m\u001b[1;33m\u001b[0m\u001b[0m\n\u001b[1;32m----> 2\u001b[1;33m \u001b[0mage_salary\u001b[0m\u001b[1;33m(\u001b[0m\u001b[1;34m'Sunil'\u001b[0m\u001b[1;33m)\u001b[0m\u001b[1;33m\u001b[0m\u001b[0m\n\u001b[0m",
      "\u001b[1;31mTypeError\u001b[0m: age_salary() missing 2 required positional arguments: 'age' and 'salary'"
     ]
    }
   ],
   "source": [
    "# Showing error if user dont give all the required parameters, in such scenarios we can give Default Parameter Values\n",
    "age_salary('Sunil')"
   ]
  },
  {
   "cell_type": "code",
   "execution_count": 50,
   "metadata": {},
   "outputs": [],
   "source": [
    "def age_salary(name= 'Unknown',age = '\"NotGiven\"', salary = '\"NotGiven\"'):\n",
    "    print('Python Teacher name is ' , name , ' and his age is ' , age, ' , his salary  ' , salary)"
   ]
  },
  {
   "cell_type": "code",
   "execution_count": 54,
   "metadata": {},
   "outputs": [
    {
     "name": "stdout",
     "output_type": "stream",
     "text": [
      "Python Teacher name is  Sunil  and his age is  \"NotGiven\"  , his salary   30000\n"
     ]
    }
   ],
   "source": [
    "# We know the Name = Sunil and we know the salary = 30000 but we dont know the age\n",
    "# How to run this code\n",
    "age_salary(name = 'Sunil', salary = 30000)"
   ]
  },
  {
   "cell_type": "markdown",
   "metadata": {},
   "source": [
    "###  Placeholder\n",
    "\n",
    "Please holder means a simple '_' , it works as a variable , however it will not save in memory, and not take space in memory"
   ]
  },
  {
   "cell_type": "code",
   "execution_count": 32,
   "metadata": {},
   "outputs": [],
   "source": [
    "def sum_multi_divide(a,b):\n",
    "    return (a+b,a*b , a/b )"
   ]
  },
  {
   "cell_type": "code",
   "execution_count": 34,
   "metadata": {},
   "outputs": [
    {
     "data": {
      "text/plain": [
       "(7, 10, 2.5)"
      ]
     },
     "execution_count": 34,
     "metadata": {},
     "output_type": "execute_result"
    }
   ],
   "source": [
    "sum_multi_divide(5,2)"
   ]
  },
  {
   "cell_type": "code",
   "execution_count": 36,
   "metadata": {},
   "outputs": [
    {
     "data": {
      "text/plain": [
       "(7, 10, 2.5)"
      ]
     },
     "execution_count": 36,
     "metadata": {},
     "output_type": "execute_result"
    }
   ],
   "source": [
    "# a Returns the value in Tuple\n",
    "a = sum_multi_divide(5,2)\n",
    "a"
   ]
  },
  {
   "cell_type": "code",
   "execution_count": 43,
   "metadata": {},
   "outputs": [
    {
     "name": "stdout",
     "output_type": "stream",
     "text": [
      "The sum of two number :  7\n",
      "The multiply of two number :  10\n",
      "The divide of two number :  2.5\n"
     ]
    }
   ],
   "source": [
    "# if we want to fetch output value \n",
    "mysum , my_multi , my_divide = sum_multi_divide(5,2)\n",
    "print('The sum of two number : ', mysum)\n",
    "print('The multiply of two number : ', my_multi)\n",
    "print('The divide of two number : ' , my_divide)"
   ]
  },
  {
   "cell_type": "code",
   "execution_count": 55,
   "metadata": {},
   "outputs": [
    {
     "ename": "ValueError",
     "evalue": "too many values to unpack (expected 2)",
     "output_type": "error",
     "traceback": [
      "\u001b[1;31m---------------------------------------------------------------------------\u001b[0m",
      "\u001b[1;31mValueError\u001b[0m                                Traceback (most recent call last)",
      "\u001b[1;32m<ipython-input-55-90e91f666bd6>\u001b[0m in \u001b[0;36m<module>\u001b[1;34m()\u001b[0m\n\u001b[0;32m      1\u001b[0m \u001b[1;31m# if we want to fetch only 1 output value or 2 output value but not all\u001b[0m\u001b[1;33m\u001b[0m\u001b[1;33m\u001b[0m\u001b[0m\n\u001b[1;32m----> 2\u001b[1;33m \u001b[0mmysum\u001b[0m \u001b[1;33m,\u001b[0m \u001b[0mmy_multi\u001b[0m  \u001b[1;33m=\u001b[0m \u001b[0msum_multi_divide\u001b[0m\u001b[1;33m(\u001b[0m\u001b[1;36m5\u001b[0m\u001b[1;33m,\u001b[0m\u001b[1;36m2\u001b[0m\u001b[1;33m)\u001b[0m\u001b[1;33m\u001b[0m\u001b[0m\n\u001b[0m",
      "\u001b[1;31mValueError\u001b[0m: too many values to unpack (expected 2)"
     ]
    }
   ],
   "source": [
    "# if we want to fetch only 1 output value or 2 output value but not all\n",
    "mysum , my_multi  = sum_multi_divide(5,2)"
   ]
  },
  {
   "cell_type": "markdown",
   "metadata": {},
   "source": [
    "######  Placeholder\n",
    "\n",
    "Please holder means a simple '_' , it works as a variable , however it will not save in memory"
   ]
  },
  {
   "cell_type": "code",
   "execution_count": 58,
   "metadata": {},
   "outputs": [
    {
     "name": "stdout",
     "output_type": "stream",
     "text": [
      "The sum of two number :  7\n",
      "The multiple of two number :  10\n"
     ]
    }
   ],
   "source": [
    "# if we want to fetch only 1 output value or 2 output value but not all\n",
    "mysum , my_multi , _   = sum_multi_divide(5,2)\n",
    "print('The sum of two number : ' , mysum)\n",
    "print('The multiple of two number : ' , my_multi)"
   ]
  },
  {
   "cell_type": "code",
   "execution_count": 60,
   "metadata": {},
   "outputs": [
    {
     "data": {
      "text/plain": [
       "2.5"
      ]
     },
     "execution_count": 60,
     "metadata": {},
     "output_type": "execute_result"
    }
   ],
   "source": [
    "_"
   ]
  }
 ],
 "metadata": {
  "kernelspec": {
   "display_name": "Python 3",
   "language": "python",
   "name": "python3"
  },
  "language_info": {
   "codemirror_mode": {
    "name": "ipython",
    "version": 3
   },
   "file_extension": ".py",
   "mimetype": "text/x-python",
   "name": "python",
   "nbconvert_exporter": "python",
   "pygments_lexer": "ipython3",
   "version": "3.7.0"
  }
 },
 "nbformat": 4,
 "nbformat_minor": 2
}
